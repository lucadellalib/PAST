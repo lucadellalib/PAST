{
 "cells": [
  {
   "cell_type": "markdown",
   "id": "313b5b2c",
   "metadata": {},
   "source": [
    "# PAST Model: Getting Started"
   ]
  },
  {
   "cell_type": "markdown",
   "id": "491bc5df",
   "metadata": {},
   "source": [
    "This notebook will help you get started with the `PastModel` model.\n",
    "You will:\n",
    "- Download a pretrained model from HuggingFace\n",
    "- Load and process audio\n",
    "- Run the model (encode & decode)\n",
    "- Listen to original and reconstructed audio\n",
    "- evaluate the model using PESQ and SI-SNR metrics"
   ]
  },
  {
   "cell_type": "code",
   "execution_count": null,
   "id": "ea1ba088",
   "metadata": {},
   "outputs": [],
   "source": [
    "# Optional: install dependencies\n",
    "# !pip install -r requirements.txt"
   ]
  },
  {
   "cell_type": "code",
   "execution_count": null,
   "id": "33ff42f5",
   "metadata": {},
   "outputs": [],
   "source": [
    "import sys\n",
    "\n",
    "sys.path.insert(0, '.')"
   ]
  },
  {
   "cell_type": "markdown",
   "id": "3b156429",
   "metadata": {},
   "source": [
    "### 🔧 Load the model"
   ]
  },
  {
   "cell_type": "code",
   "execution_count": null,
   "id": "ea0953f0",
   "metadata": {},
   "outputs": [],
   "source": [
    "from past.models.past_model import PastModel\n",
    "\n",
    "model_name = 'PAST'  # can be also 'PAST_streamable'\n",
    "model = PastModel.from_pretrained(model_name)\n",
    "\n",
    "print(\"Sample rate:\", model.sample_rate)"
   ]
  },
  {
   "cell_type": "markdown",
   "id": "12649d13",
   "metadata": {},
   "source": [
    "### 🔊 Load an audio file"
   ]
  },
  {
   "cell_type": "code",
   "execution_count": null,
   "id": "698e35a8",
   "metadata": {},
   "outputs": [],
   "source": [
    "import torchaudio\n",
    "\n",
    "\n",
    "def read_one_wav(path: str, target_sr):\n",
    "    wav, sr = torchaudio.load(path)\n",
    "    if sr != target_sr:\n",
    "        wav = torchaudio.transforms.Resample(sr, target_sr)(wav)\n",
    "    if wav.shape[0] == 2:\n",
    "        wav = wav[:1]\n",
    "    return wav.unsqueeze(0)\n",
    "\n",
    "\n",
    "# Example path:\n",
    "audio_path = \"assets/1089-134686-0004.flac\"\n",
    "wav = read_one_wav(audio_path, model.sample_rate).to(model.device)\n",
    "\n",
    "print(\"Loaded audio shape:\", wav.shape)"
   ]
  },
  {
   "cell_type": "markdown",
   "id": "d39be138",
   "metadata": {},
   "source": [
    "### 🔄 Run the model (encode + decode)"
   ]
  },
  {
   "cell_type": "code",
   "execution_count": null,
   "id": "70046400",
   "metadata": {},
   "outputs": [],
   "source": [
    "import torch\n",
    "\n",
    "with torch.no_grad():\n",
    "    codes, scale = model.encode(wav)\n",
    "    reconstructed = model.decode(codes, scale)\n",
    "\n",
    "reconstructed = reconstructed[:, :, : wav.shape[2]]\n",
    "\n",
    "print(\"Codes shape:\", codes.shape)"
   ]
  },
  {
   "cell_type": "markdown",
   "id": "4748853a",
   "metadata": {},
   "source": [
    "### 🧩 View token codes"
   ]
  },
  {
   "cell_type": "code",
   "execution_count": null,
   "id": "9672ee70",
   "metadata": {},
   "outputs": [],
   "source": [
    "import pandas as pd\n",
    "\n",
    "codes_for_print = codes[0, :, :10].cpu().numpy()\n",
    "T, K = codes_for_print.shape\n",
    "print(f\"Codes shape for printing: {codes_for_print.shape} (T={T}, K={K})\")\n",
    "\n",
    "df = pd.DataFrame(codes_for_print.T, columns=[f\"token {i+1}\" for i in range(T)])\n",
    "df.index = [f\"time {i+1}\" for i in range(K)]\n",
    "\n",
    "print(df.to_string(float_format=\"%.2f\"))"
   ]
  },
  {
   "cell_type": "markdown",
   "id": "32ef6b9a",
   "metadata": {},
   "source": [
    "### 🔁 Listen to original vs reconstructed audio"
   ]
  },
  {
   "cell_type": "code",
   "execution_count": null,
   "id": "44c0bcd1",
   "metadata": {},
   "outputs": [],
   "source": [
    "from IPython.display import Audio, display\n",
    "\n",
    "print(\"Original:\")\n",
    "display(Audio(wav.cpu().numpy().squeeze(), rate=model.sample_rate))\n",
    "\n",
    "print(\"Reconstructed:\")\n",
    "display(Audio(reconstructed.cpu().numpy().squeeze(), rate=model.sample_rate))"
   ]
  },
  {
   "cell_type": "markdown",
   "id": "1ba4a901",
   "metadata": {},
   "source": [
    "### 📈 Evaluate Model Performance on a single wav"
   ]
  },
  {
   "cell_type": "code",
   "execution_count": null,
   "id": "83d9254b",
   "metadata": {},
   "outputs": [],
   "source": [
    "from audiocraft.losses.sisnr import SISNR\n",
    "\n",
    "try:\n",
    "    from pypesq import pesq\n",
    "except ImportError:\n",
    "    print(\"pypesq is not installed. PESQ metric will not be calculated.\")\n",
    "    pesq = None\n",
    "\n",
    "sisnr_val = SISNR(sample_rate=model.sample_rate, segment=5, overlap=0.5, epsilon=1e-8)(reconstructed, wav)\n",
    "pesq_val = pesq(wav.squeeze().cpu().numpy(), reconstructed.squeeze().cpu().numpy(), model.sample_rate) if pesq is not None else None\n",
    "\n",
    "print(f\"## The metrics are calculated for the original and reconstructed audio. ##\")\n",
    "print(f\"SI-SNR: {sisnr_val:.2f}\")\n",
    "if pesq_val is not None:\n",
    "    print(f\"PESQ: {pesq_val:.2f}\")"
   ]
  }
 ],
 "metadata": {
  "kernelspec": {
   "display_name": "base",
   "language": "python",
   "name": "python3"
  },
  "language_info": {
   "codemirror_mode": {
    "name": "ipython",
    "version": 3
   },
   "file_extension": ".py",
   "mimetype": "text/x-python",
   "name": "python",
   "nbconvert_exporter": "python",
   "pygments_lexer": "ipython3",
   "version": "3.10.12"
  }
 },
 "nbformat": 4,
 "nbformat_minor": 5
}
